{
  "cells": [
    {
      "cell_type": "markdown",
      "source": [
        "# Sentece BERT for Lyrical Similarity \n",
        "\n",
        "Here, a Sentence BERT model is applyed to attain the similarity of the the unique songs of the DS Project until the end of the Year 2021."
      ],
      "metadata": {
        "id": "VILB4jfh9Wvw"
      }
    },
    {
      "cell_type": "markdown",
      "source": [
        "## Loading packages and Models\n",
        "\n",
        "We are using a pretrained BERT Model since our dataset is vast and does not contain a subject-specific vocabulary."
      ],
      "metadata": {
        "id": "3IV2l5mE9mmT"
      }
    },
    {
      "cell_type": "code",
      "execution_count": null,
      "metadata": {
        "id": "F7xCosNrBuP9"
      },
      "outputs": [],
      "source": [
        "!pip install transformers\n",
        "!pip install umap"
      ]
    },
    {
      "cell_type": "code",
      "source": [
        "!pip install sentence-transformers"
      ],
      "metadata": {
        "id": "Vcb6oU3v-m0l"
      },
      "execution_count": null,
      "outputs": []
    },
    {
      "cell_type": "code",
      "execution_count": null,
      "metadata": {
        "id": "fQNxXCSxB0ji"
      },
      "outputs": [],
      "source": [
        "import torch \n",
        "from transformers import BertTokenizer, BertModel\n",
        "from sentence_transformers import SentenceTransformer\n",
        "import pandas as pd\n",
        "import numpy as np \n"
      ]
    },
    {
      "cell_type": "code",
      "execution_count": null,
      "metadata": {
        "id": "DyZxDjziB8U7"
      },
      "outputs": [],
      "source": [
        "# using a pre-trained Tokenizer\n",
        "tokenizer = BertTokenizer.from_pretrained('bert-base-uncased')\n"
      ]
    },
    {
      "cell_type": "code",
      "execution_count": null,
      "metadata": {
        "id": "uhGu3MxYDheE"
      },
      "outputs": [],
      "source": [
        "# using a pre-trained Sentence Transformer BERT Model \n",
        "model = SentenceTransformer('sentence-transformers/all-mpnet-base-v2')\n"
      ]
    },
    {
      "cell_type": "markdown",
      "source": [
        "## Getting the (cleaned) Data"
      ],
      "metadata": {
        "id": "zo9S2FwP_hd4"
      }
    },
    {
      "cell_type": "code",
      "source": [
        "## mounting google drive\n",
        "\n",
        "from google.colab import drive\n",
        "drive.mount('/content/gdrive')"
      ],
      "metadata": {
        "id": "oDJpvuFB_eI_"
      },
      "execution_count": null,
      "outputs": []
    },
    {
      "cell_type": "code",
      "source": [
        "# reading in data \n",
        "\n",
        "song_data =  pd.read_csv(\"/content/gdrive/My Drive/DS Projekt/data_for_BERT.csv\",  encoding='latin-1')\n",
        "\n",
        "song_data.head()\n",
        "song_data.shape"
      ],
      "metadata": {
        "id": "z_CFCoHt__ME"
      },
      "execution_count": null,
      "outputs": []
    },
    {
      "cell_type": "code",
      "source": [
        "song_data['lyrics'].isnull().values.any() ## awesome - so preprocessing has worked ! :D"
      ],
      "metadata": {
        "id": "YeoTMTPBQVj5"
      },
      "execution_count": null,
      "outputs": []
    },
    {
      "cell_type": "markdown",
      "source": [
        "## Applying the Sentence BERT Model "
      ],
      "metadata": {
        "id": "WljEbLuWET9b"
      }
    },
    {
      "cell_type": "code",
      "source": [
        "# getting the embeddings for all songs\n",
        "\n",
        "all_lyrics = list(song_data.lyrics)\n",
        "print(\"The amount of songs considered for the Sentence BERT Model is\", str(len(all_lyrics)), \"!\")"
      ],
      "metadata": {
        "id": "pS9uAvXlBClj"
      },
      "execution_count": null,
      "outputs": []
    },
    {
      "cell_type": "code",
      "execution_count": null,
      "metadata": {
        "id": "60X6Q3C4Mh-Z"
      },
      "outputs": [],
      "source": [
        "all_embeddings = model.encode(all_lyrics)\n",
        "all_embeddings.shape # 768 per song\n"
      ]
    },
    {
      "cell_type": "markdown",
      "source": [
        "Now, we can store the embeddings together with the combination and genre"
      ],
      "metadata": {
        "id": "uqxvIuKnEma2"
      }
    },
    {
      "cell_type": "code",
      "source": [
        "all_embeddings"
      ],
      "metadata": {
        "id": "BOjO7sA4Sz5v"
      },
      "execution_count": null,
      "outputs": []
    },
    {
      "cell_type": "code",
      "source": [
        "all_embeddings_df = pd.DataFrame(all_embeddings)\n"
      ],
      "metadata": {
        "id": "ye68kXwbEMGX"
      },
      "execution_count": null,
      "outputs": []
    },
    {
      "cell_type": "code",
      "source": [
        "all_embeddings_df[\"combination\"] = song_data.combination\n",
        "all_embeddings_df[\"genre\"] = song_data.genre\n"
      ],
      "metadata": {
        "id": "90rv3DttFDqS"
      },
      "execution_count": null,
      "outputs": []
    },
    {
      "cell_type": "code",
      "source": [
        "# saving to Drive \n",
        "\n",
        "all_embeddings_df.to_csv('/content/gdrive/My Drive/DS Projekt/all_embeddings_df.csv')"
      ],
      "metadata": {
        "id": "9EQ7NrBrFQja"
      },
      "execution_count": null,
      "outputs": []
    },
    {
      "cell_type": "code",
      "source": [
        "## cell for leading in embeddings once the code above has been run!\n",
        "\n",
        "all_embeddings_df = pd.read_csv(\"/content/gdrive/My Drive/DS Projekt/all_embeddings_df.csv\",  encoding='latin-1')\n",
        "\n",
        "print(all_embeddings_df.shape)\n"
      ],
      "metadata": {
        "id": "XIdPGH6bRTPj"
      },
      "execution_count": null,
      "outputs": []
    },
    {
      "cell_type": "code",
      "source": [
        "all_embeddings_df1 = all_embeddings_df.iloc[1:768]"
      ],
      "metadata": {
        "id": "WQCvWQ47TXYU"
      },
      "execution_count": null,
      "outputs": []
    },
    {
      "cell_type": "markdown",
      "source": [
        "## Analysis "
      ],
      "metadata": {
        "id": "XLtgsP_-SHO9"
      }
    },
    {
      "cell_type": "markdown",
      "source": [
        "### Similarity scores across all songs"
      ],
      "metadata": {
        "id": "KpPQW_6DSJKq"
      }
    },
    {
      "cell_type": "code",
      "source": [
        "embeddings = np.array(all_embeddings_df.iloc[0:24585,1:769])\n"
      ],
      "metadata": {
        "id": "ivHZ-smITswA"
      },
      "execution_count": null,
      "outputs": []
    },
    {
      "cell_type": "code",
      "source": [
        "embeddings.shape"
      ],
      "metadata": {
        "id": "waYGcVaLZej1"
      },
      "execution_count": null,
      "outputs": []
    },
    {
      "cell_type": "code",
      "source": [
        "from sentence_transformers.util import cos_sim\n",
        "\n",
        "#sim = np.zeros([embeddings.shape[0], embeddings.shape[0] ])\n"
      ],
      "metadata": {
        "id": "_yOI2t2b-Dms"
      },
      "execution_count": null,
      "outputs": []
    },
    {
      "cell_type": "code",
      "source": [
        "# max 3 values of out similarity list per song!\n",
        "\n",
        "sim_songs_1 = []\n",
        "sim_songs_2 = []\n",
        "sim_songs_3 = []\n"
      ],
      "metadata": {
        "id": "Zd2PI-c0NLvt"
      },
      "execution_count": null,
      "outputs": []
    },
    {
      "cell_type": "code",
      "source": [
        "# reading in already calculated data \n",
        "\n",
        "\n",
        "df_sims = pd.read_csv('/content/gdrive/My Drive/DS Projekt/df_sims.csv')\n",
        "\n",
        "\n",
        "sim_songs_1 = list(df_sims.s1)\n",
        "sim_songs_2 = list(df_sims.s2)\n",
        "sim_songs_3 = list(df_sims.s3)"
      ],
      "metadata": {
        "id": "Tv1bdr44RzC2"
      },
      "execution_count": null,
      "outputs": []
    },
    {
      "cell_type": "code",
      "source": [
        "len(sim_songs_1)"
      ],
      "metadata": {
        "id": "-T75pg4m344A"
      },
      "execution_count": null,
      "outputs": []
    },
    {
      "cell_type": "code",
      "source": [
        ""
      ],
      "metadata": {
        "id": "nJ8McNmmAoug"
      },
      "execution_count": null,
      "outputs": []
    },
    {
      "cell_type": "code",
      "source": [
        "\n",
        "for i in range(len(sim_songs_1),embeddings.shape[0]):\n",
        "  \n",
        "  #embeddings.shape[0]):\n",
        "  list_sims = np.ones(embeddings.shape[0])\n",
        "\n",
        "  print(i)\n",
        "  for j in range(embeddings.shape[0]):\n",
        "    list_sims[j] = cos_sim(embeddings[i], embeddings[j])\n",
        "\n",
        "  # same song out \n",
        "  list_sims[i] = -100\n",
        "\n",
        "  # top 1 \n",
        "  top1 = np.argmax(list_sims)\n",
        "\n",
        "  # top 2 \n",
        "  list_sims[top1] = -100\n",
        "  top2 = np.argmax(list_sims)\n",
        "\n",
        "  # top 3\n",
        "  list_sims[top2] = -100\n",
        "  top3 = np.argmax(list_sims)\n",
        "\n",
        "  sim_songs_1.append(str(all_embeddings_df.combination[top1] ))\n",
        "  sim_songs_2.append(str(all_embeddings_df.combination[top2] ))\n",
        "  sim_songs_3.append(str(all_embeddings_df.combination[top3] ))\n",
        "\n",
        "  if i == embeddings.shape[0]:\n",
        "    df_sims = pd.DataFrame({\"s1\":sim_songs_1, \"s2\":sim_songs_2, \"s3\":sim_songs_3})\n",
        "    df_sims.to_csv('/content/gdrive/My Drive/DS Projekt/df_sims.csv')\n",
        "\n",
        "  if (i > 0) & ((i % 400) == 0):\n",
        "    df_sims = pd.DataFrame({\"s1\":sim_songs_1, \"s2\":sim_songs_2, \"s3\":sim_songs_3})\n",
        "    df_sims.to_csv('/content/gdrive/My Drive/DS Projekt/df_sims.csv')\n",
        "\n",
        "#sim.shape"
      ],
      "metadata": {
        "id": "mpUQx1_ISVwq"
      },
      "execution_count": null,
      "outputs": []
    },
    {
      "cell_type": "markdown",
      "source": [
        "assigning top 3 most similar lyrics per song lyric\n"
      ],
      "metadata": {
        "id": "I5Q8j_g0SnlG"
      }
    },
    {
      "cell_type": "code",
      "source": [
        "df_sims = pd.DataFrame({\"s1\":sim_songs_1, \"s2\":sim_songs_2, \"s3\":sim_songs_3})\n",
        "df_sims.shape\n",
        "df_sims.to_csv('/content/gdrive/My Drive/DS Projekt/df_sims.csv')\n"
      ],
      "metadata": {
        "id": "xTNWzgk1gONF"
      },
      "execution_count": null,
      "outputs": []
    },
    {
      "cell_type": "markdown",
      "source": [
        "## Merging the string with most similar songs bac togther with the song data"
      ],
      "metadata": {
        "id": "dAyuYcht7w9z"
      }
    },
    {
      "cell_type": "code",
      "source": [
        "df_sims = pd.read_csv('/content/gdrive/My Drive/DS Projekt/df_sims.csv')\n",
        "df_sims.shape ## gleich ? wie all_embeddings ?? \n",
        "\n"
      ],
      "metadata": {
        "id": "D-cETDOp72bF"
      },
      "execution_count": null,
      "outputs": []
    },
    {
      "cell_type": "code",
      "source": [
        "df_sims.s1"
      ],
      "metadata": {
        "id": "0xu7wxUqC-Wn"
      },
      "execution_count": null,
      "outputs": []
    },
    {
      "cell_type": "code",
      "source": [
        "all_embeddings_df[\"s1\"] = df_sims.s1\n",
        "all_embeddings_df[\"s2\"] = df_sims.s2\n",
        "all_embeddings_df[\"s3\"] = df_sims.s3\n",
        "\n"
      ],
      "metadata": {
        "id": "w2fodbSS8CjA"
      },
      "execution_count": null,
      "outputs": []
    },
    {
      "cell_type": "code",
      "source": [
        "song_data.shape"
      ],
      "metadata": {
        "id": "4zBaNrZjgkR8"
      },
      "execution_count": null,
      "outputs": []
    },
    {
      "cell_type": "code",
      "source": [
        "## lyrics index liste \n",
        "df_lyrics = song_data[[\"combination\", \"lyrics\"]]\n"
      ],
      "metadata": {
        "id": "b1sKl6phX24X"
      },
      "execution_count": null,
      "outputs": []
    },
    {
      "cell_type": "code",
      "source": [
        "df_lyrics"
      ],
      "metadata": {
        "id": "IJo0QL4RDGSd"
      },
      "execution_count": null,
      "outputs": []
    },
    {
      "cell_type": "code",
      "source": [
        "# init indices in ambeddings data \n",
        "\n",
        "all_embeddings_df[\"index_1\"] = 0\n",
        "all_embeddings_df[\"index_2\"] = 0\n",
        "all_embeddings_df[\"index_3\"] = 0\n"
      ],
      "metadata": {
        "id": "dvkGuVPV814T"
      },
      "execution_count": null,
      "outputs": []
    },
    {
      "cell_type": "code",
      "source": [
        "df_lyrics[\"idx\"] = list(range(24585))"
      ],
      "metadata": {
        "id": "ec7LtrVsgzkO"
      },
      "execution_count": null,
      "outputs": []
    },
    {
      "cell_type": "code",
      "source": [
        "for i in range(all_embeddings_df.shape[0]):\n",
        "  all_embeddings_df.index_1[i] =  list(df_lyrics.idx[df_lyrics.combination == all_embeddings_df.s1[i] ])[0]\n",
        "  all_embeddings_df.index_2[i] =  list(df_lyrics.idx[df_lyrics.combination == all_embeddings_df.s2[i] ])[0]\n",
        "  all_embeddings_df.index_3[i] =  list(df_lyrics.idx[df_lyrics.combination == all_embeddings_df.s3[i] ])[0]\n",
        "  print(i)"
      ],
      "metadata": {
        "id": "KU1wWk-R9am6"
      },
      "execution_count": null,
      "outputs": []
    },
    {
      "cell_type": "code",
      "source": [
        "# checking for different numbers \n",
        "\n",
        "i_s = [20,100,1000,2000,3000,5000,7000,15000,20000]\n",
        "\n",
        "for i in i_s:\n",
        "\n",
        "  print(\"1\")\n",
        "  print(all_embeddings_df.s1[i])\n",
        "  print(df_lyrics.combination[df_lyrics.idx == all_embeddings_df.index_1[i] ])\n",
        "\n",
        "  print(\"2\")\n",
        "  print(all_embeddings_df.s2[i])\n",
        "  print(df_lyrics.combination[df_lyrics.idx == all_embeddings_df.index_2[i] ])\n",
        "\n",
        "  print(\"3\")\n",
        "  print(all_embeddings_df.s3[i])\n",
        "  print(df_lyrics.combination[df_lyrics.idx == all_embeddings_df.index_3[i] ])\n",
        "\n"
      ],
      "metadata": {
        "id": "nQvoLOfAjtkk"
      },
      "execution_count": null,
      "outputs": []
    },
    {
      "cell_type": "code",
      "source": [
        ""
      ],
      "metadata": {
        "id": "kFLF0YNOt1Jy"
      },
      "execution_count": null,
      "outputs": []
    },
    {
      "cell_type": "markdown",
      "source": [
        " Awesome!"
      ],
      "metadata": {
        "id": "M0_u0hUulCZj"
      }
    },
    {
      "cell_type": "markdown",
      "source": [
        "## Dimensionality Reduction"
      ],
      "metadata": {
        "id": "do3uJmMoSQWK"
      }
    },
    {
      "cell_type": "code",
      "source": [
        "embeddings.shape"
      ],
      "metadata": {
        "id": "iMLWW0KOlHPa"
      },
      "execution_count": null,
      "outputs": []
    },
    {
      "cell_type": "markdown",
      "source": [
        "### PCA"
      ],
      "metadata": {
        "id": "0K8aacAUnLa6"
      }
    },
    {
      "cell_type": "code",
      "source": [
        "## PCA and plotting for fun \n",
        "\n",
        "from sklearn.decomposition import PCA\n",
        "pca = PCA(n_components=2)\n",
        "  "
      ],
      "metadata": {
        "id": "iWrXw7WUHO3i"
      },
      "execution_count": null,
      "outputs": []
    },
    {
      "cell_type": "code",
      "source": [
        "## applying PCA\n",
        "principalComponents = pca.fit_transform(embeddings)\n"
      ],
      "metadata": {
        "id": "q5dVgPZAINQh"
      },
      "execution_count": null,
      "outputs": []
    },
    {
      "cell_type": "code",
      "source": [
        "all_embeddings_df[\"p1\"] = principalComponents[:,0]\n",
        "all_embeddings_df[\"p2\"] = principalComponents[:,1]\n"
      ],
      "metadata": {
        "id": "PZY7pN028vC2"
      },
      "execution_count": null,
      "outputs": []
    },
    {
      "cell_type": "markdown",
      "source": [
        "## T-SNE"
      ],
      "metadata": {
        "id": "eFXUb9EcnPMn"
      }
    },
    {
      "cell_type": "code",
      "source": [
        "from sklearn.manifold import TSNE"
      ],
      "metadata": {
        "id": "rLUx-2Lrn601"
      },
      "execution_count": null,
      "outputs": []
    },
    {
      "cell_type": "code",
      "source": [
        "tsne_lyrics = TSNE(n_components=2, verbose=1, random_state=123)\n",
        "tnse_output = tsne_lyrics.fit_transform(embeddings) \n"
      ],
      "metadata": {
        "id": "Qorm4rCgnVfU"
      },
      "execution_count": null,
      "outputs": []
    },
    {
      "cell_type": "code",
      "source": [
        "tnse_output.shape\n",
        "#"
      ],
      "metadata": {
        "id": "8OTbWlyr9ZtU"
      },
      "execution_count": null,
      "outputs": []
    },
    {
      "cell_type": "code",
      "source": [
        "all_embeddings_df[\"tsne_1\"] = tnse_output[:,0]\n",
        "all_embeddings_df[\"tsne_2\"] = tnse_output[:,1]\n"
      ],
      "metadata": {
        "id": "48kqWSicp5fr"
      },
      "execution_count": null,
      "outputs": []
    },
    {
      "cell_type": "markdown",
      "source": [
        "### Isomap"
      ],
      "metadata": {
        "id": "NJIg89xgqSIB"
      }
    },
    {
      "cell_type": "code",
      "source": [
        "from sklearn.manifold import Isomap"
      ],
      "metadata": {
        "id": "nz_iHpLauhB1"
      },
      "execution_count": null,
      "outputs": []
    },
    {
      "cell_type": "code",
      "source": [
        "isomap = Isomap(n_neighbors=5, n_components=2, \n",
        "                eigen_solver='auto')"
      ],
      "metadata": {
        "id": "jx1-QTP0uw-t"
      },
      "execution_count": null,
      "outputs": []
    },
    {
      "cell_type": "code",
      "source": [
        "results_isomap = isomap.fit_transform(embeddings)\n"
      ],
      "metadata": {
        "id": "mj_aiMmgzXZZ"
      },
      "execution_count": null,
      "outputs": []
    },
    {
      "cell_type": "code",
      "source": [
        "results_isomap.shape"
      ],
      "metadata": {
        "id": "KaIJ_-BbqUCC"
      },
      "execution_count": null,
      "outputs": []
    },
    {
      "cell_type": "code",
      "source": [
        "all_embeddings_df[\"iso_1\"] = results_isomap[:,0]\n",
        "all_embeddings_df[\"iso_2\"] = results_isomap[:,1]\n"
      ],
      "metadata": {
        "id": "ru59Ts6MrFW7"
      },
      "execution_count": null,
      "outputs": []
    },
    {
      "cell_type": "markdown",
      "source": [
        "### Further steps"
      ],
      "metadata": {
        "id": "isSpopCiqioi"
      }
    },
    {
      "cell_type": "code",
      "source": [
        "## removing-non-needed columns \n",
        "\n",
        "similarity_resutls_df = all_embeddings_df[[\"combination\", \"s1\", \"s2\", \"s3\", \"p1\", \"p2\", \"tsne_1\", \"tsne_2\", \"iso_1\", \"iso_2\", \"genre\", \"index_1\", \"index_2\", \"index_3\"]]\n",
        "similarity_resutls_df.shape"
      ],
      "metadata": {
        "id": "GW282dVE9DmU"
      },
      "execution_count": null,
      "outputs": []
    },
    {
      "cell_type": "markdown",
      "source": [
        "## Adding in the first date!"
      ],
      "metadata": {
        "id": "GaXhOUszAOqw"
      }
    },
    {
      "cell_type": "code",
      "source": [
        "similarity_resutls_df[\"first_appearance\"] = song_data.first_appearance"
      ],
      "metadata": {
        "id": "ExSY81KgmITH"
      },
      "execution_count": null,
      "outputs": []
    },
    {
      "cell_type": "markdown",
      "source": [
        "## Using one DF for topics modelling and one called \"extra\" for the usage in the similarity Page"
      ],
      "metadata": {
        "id": "4moIXLagmozu"
      }
    },
    {
      "cell_type": "code",
      "source": [
        "## removing not known genres for topic modelling\n",
        "\n",
        "similarity_df = similarity_resutls_df[similarity_resutls_df.genre != \"unknown genre\"]\n",
        "\n",
        "similarity_df.to_csv('/content/gdrive/My Drive/DS Projekt/similarity.csv')\n",
        "\n"
      ],
      "metadata": {
        "id": "SoloiM7XFohz"
      },
      "execution_count": null,
      "outputs": []
    },
    {
      "cell_type": "code",
      "source": [
        "## usage in similarity page \n",
        "\n",
        "similarity_resutls_df.to_csv('/content/gdrive/My Drive/DS Projekt/similarity_extra.csv')\n",
        "df_lyrics.to_csv('/content/gdrive/My Drive/DS Projekt/df_lyrics.csv')\n"
      ],
      "metadata": {
        "id": "38YJV0kLBkEQ"
      },
      "execution_count": null,
      "outputs": []
    }
  ],
  "metadata": {
    "colab": {
      "name": "Kopie von Kopie von Sentence_BERT_for_Lyrical_Similarity.ipynb",
      "provenance": [],
      "collapsed_sections": [],
      "private_outputs": true,
      "machine_shape": "hm"
    },
    "kernelspec": {
      "display_name": "Python 3",
      "name": "python3"
    },
    "language_info": {
      "codemirror_mode": {
        "name": "ipython",
        "version": 3
      },
      "file_extension": ".py",
      "mimetype": "text/x-python",
      "name": "python",
      "nbconvert_exporter": "python",
      "pygments_lexer": "ipython3",
      "version": "3.9.5"
    }
  },
  "nbformat": 4,
  "nbformat_minor": 0
}
